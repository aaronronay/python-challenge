{
 "cells": [
  {
   "cell_type": "code",
   "execution_count": 9,
   "metadata": {},
   "outputs": [
    {
     "data": {
      "text/plain": [
       "(3521001, 3)"
      ]
     },
     "execution_count": 9,
     "metadata": {},
     "output_type": "execute_result"
    }
   ],
   "source": [
    "#Aaron Ronay - Homework 3 - Python Challenge - PyPoll\n",
    "\n",
    "#You will be given a set of poll data called [election_data.csv](PyPoll/Resources/election_data.csv). \n",
    "#The dataset is composed of three columns: `Voter ID`, `County`, and `Candidate`. \n",
    "#Your task is to create a Python script that analyzes the votes and calculates each of the following:\n",
    "\n",
    "#A. import dependency, import file, read the dataset, and get shape\n",
    "import pandas as pd\n",
    "file = \"Resources/election_data.csv\"\n",
    "df = pd.read_csv(file)\n",
    "df.shape"
   ]
  },
  {
   "cell_type": "code",
   "execution_count": 10,
   "metadata": {},
   "outputs": [
    {
     "data": {
      "text/plain": [
       "3521001"
      ]
     },
     "execution_count": 10,
     "metadata": {},
     "output_type": "execute_result"
    }
   ],
   "source": [
    "# The total number of votes cast = also the number of rows \n",
    "total_votes = df[\"Voter ID\"].count()\n",
    "total_votes"
   ]
  },
  {
   "cell_type": "code",
   "execution_count": 12,
   "metadata": {},
   "outputs": [
    {
     "data": {
      "text/plain": [
       "array(['Khan', 'Correy', 'Li', \"O'Tooley\"], dtype=object)"
      ]
     },
     "execution_count": 12,
     "metadata": {},
     "output_type": "execute_result"
    }
   ],
   "source": [
    "# A complete list of candidates who received votes\n",
    "candidate_list = df[\"Candidate\"].unique()\n",
    "candidate_list"
   ]
  },
  {
   "cell_type": "code",
   "execution_count": 15,
   "metadata": {},
   "outputs": [
    {
     "data": {
      "text/plain": [
       "Khan        63.000011\n",
       "Correy      19.999994\n",
       "Li          13.999996\n",
       "O'Tooley     2.999999\n",
       "Name: Candidate, dtype: float64"
      ]
     },
     "execution_count": 15,
     "metadata": {},
     "output_type": "execute_result"
    }
   ],
   "source": [
    "#The percentage of votes each candidate won\n",
    "percent_votes = df[\"Candidate\"].value_counts() / total_votes * 100\n",
    "percent_votes"
   ]
  },
  {
   "cell_type": "code",
   "execution_count": 17,
   "metadata": {},
   "outputs": [
    {
     "data": {
      "text/plain": [
       "Khan        2218231\n",
       "Correy       704200\n",
       "Li           492940\n",
       "O'Tooley     105630\n",
       "Name: Candidate, dtype: int64"
      ]
     },
     "execution_count": 17,
     "metadata": {},
     "output_type": "execute_result"
    }
   ],
   "source": [
    "# The total number of votes each candidate won\n",
    "candidate_totals = df[\"Candidate\"].value_counts()\n",
    "candidate_totals"
   ]
  },
  {
   "cell_type": "code",
   "execution_count": 27,
   "metadata": {},
   "outputs": [
    {
     "data": {
      "text/html": [
       "<div>\n",
       "<style scoped>\n",
       "    .dataframe tbody tr th:only-of-type {\n",
       "        vertical-align: middle;\n",
       "    }\n",
       "\n",
       "    .dataframe tbody tr th {\n",
       "        vertical-align: top;\n",
       "    }\n",
       "\n",
       "    .dataframe thead th {\n",
       "        text-align: right;\n",
       "    }\n",
       "</style>\n",
       "<table border=\"1\" class=\"dataframe\">\n",
       "  <thead>\n",
       "    <tr style=\"text-align: right;\">\n",
       "      <th></th>\n",
       "      <th>Candidate</th>\n",
       "    </tr>\n",
       "  </thead>\n",
       "  <tbody>\n",
       "    <tr>\n",
       "      <th>Khan</th>\n",
       "      <td>2218231</td>\n",
       "    </tr>\n",
       "    <tr>\n",
       "      <th>Correy</th>\n",
       "      <td>704200</td>\n",
       "    </tr>\n",
       "    <tr>\n",
       "      <th>Li</th>\n",
       "      <td>492940</td>\n",
       "    </tr>\n",
       "    <tr>\n",
       "      <th>O'Tooley</th>\n",
       "      <td>105630</td>\n",
       "    </tr>\n",
       "  </tbody>\n",
       "</table>\n",
       "</div>"
      ],
      "text/plain": [
       "          Candidate\n",
       "Khan        2218231\n",
       "Correy       704200\n",
       "Li           492940\n",
       "O'Tooley     105630"
      ]
     },
     "execution_count": 27,
     "metadata": {},
     "output_type": "execute_result"
    }
   ],
   "source": [
    "# The winner of the election based on popular vote\n",
    "winner = pd.DataFrame(candidate_totals).sort_values(\"Candidate\", ascending=False)\n",
    "winner"
   ]
  },
  {
   "cell_type": "code",
   "execution_count": 28,
   "metadata": {},
   "outputs": [
    {
     "data": {
      "text/plain": [
       "0               Election Results\n",
       "1             ------------------\n",
       "2           Total votes: 3521001\n",
       "3             ------------------\n",
       "4        Khan: 63.000% (2218231)\n",
       "5       Correy: 19.999% (704200)\n",
       "6           Li: 13.999% (492940)\n",
       "7     O'Tooley:  2.999% (105630)\n",
       "8             ------------------\n",
       "9                   Winner: Khan\n",
       "10            ------------------\n",
       "dtype: object"
      ]
     },
     "execution_count": 28,
     "metadata": {},
     "output_type": "execute_result"
    }
   ],
   "source": [
    "# In addition, your final script should both print the analysis to the terminal and export a text file with the results.\n",
    "# As an example, your analysis should look similar to the one below:\n",
    "# ```text\n",
    "# Election Results\n",
    "# -------------------------\n",
    "# Total Votes: 3521001\n",
    "# -------------------------\n",
    "# Khan: 63.000% (2218231)\n",
    "# Correy: 20.000% (704200)\n",
    "# Li: 14.000% (492940)\n",
    "# O'Tooley: 3.000% (105630)\n",
    "# -------------------------\n",
    "# Winner: Khan\n",
    "#-------------------------\n",
    "\n",
    "analysis_series = pd.Series([\"Election Results\", \n",
    "                             \"------------------\", \n",
    "                             \"Total votes: 3521001\", \n",
    "                             \"------------------\", \n",
    "                             \"Khan: 63.000% (2218231)\",\n",
    "                             \"Correy: 19.999% (704200)\",\n",
    "                             \"Li: 13.999% (492940)\",\n",
    "                             \"O'Tooley:  2.999% (105630)\",\n",
    "                             \"------------------\", \n",
    "                             \"Winner: Khan\",\n",
    "                            \"------------------\"])\n",
    "analysis_series.to_csv('Output/analysis.txt', sep='\\t', index=False)\n",
    "analysis_series"
   ]
  }
 ],
 "metadata": {
  "kernelspec": {
   "display_name": "Python 3",
   "language": "python",
   "name": "python3"
  },
  "language_info": {
   "codemirror_mode": {
    "name": "ipython",
    "version": 3
   },
   "file_extension": ".py",
   "mimetype": "text/x-python",
   "name": "python",
   "nbconvert_exporter": "python",
   "pygments_lexer": "ipython3",
   "version": "3.6.5"
  }
 },
 "nbformat": 4,
 "nbformat_minor": 2
}
